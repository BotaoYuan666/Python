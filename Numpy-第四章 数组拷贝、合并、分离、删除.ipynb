{
 "cells": [
  {
   "cell_type": "markdown",
   "metadata": {},
   "source": [
    "## 第四章、数组拷贝、合并、分离、删除"
   ]
  },
  {
   "cell_type": "markdown",
   "metadata": {},
   "source": [
    "### 1.数组视图、浅拷贝、深拷贝"
   ]
  },
  {
   "cell_type": "code",
   "execution_count": 1,
   "metadata": {},
   "outputs": [
    {
     "name": "stdout",
     "output_type": "stream",
     "text": [
      "[1000   30   12   13   14   76]\n",
      "[1000   30   12   13   14   76]\n",
      "[1000   30   12   13   14   76]\n",
      "[20 30 12 13 14 76]\n"
     ]
    }
   ],
   "source": [
    "import numpy as np\n",
    "my_array=np.array([20,30,12,13,14,76])\n",
    "my_array1=my_array.view()  #视图，也是浅拷贝\n",
    "my_array2=my_array         #浅拷贝\n",
    "my_array3=np.copy(my_array)  #深拷贝\n",
    "my_array4=my_array.copy()    #深拷贝,同上一行功能一样\n",
    "my_array[0]=1000\n",
    "print(my_array)\n",
    "print(my_array1)\n",
    "print(my_array2)\n",
    "print(my_array3)\n",
    "#注：a=4,b=a,a=5,此时b不变，也就是对于单个变量，这儿“=”是深拷贝，\n",
    "#但对于列表和数组“=”是浅拷贝"
   ]
  },
  {
   "cell_type": "markdown",
   "metadata": {},
   "source": [
    "### 2.二维数组合并函数hstck()、vstack(),分离函数hsplit()、vsplit()（最常用）（合并深拷贝，分离浅拷贝）"
   ]
  },
  {
   "cell_type": "markdown",
   "metadata": {},
   "source": [
    "* #### 二维数组合并、分离时用这四个函数方便。"
   ]
  },
  {
   "cell_type": "markdown",
   "metadata": {},
   "source": [
    "#### (1)合并(深拷贝)"
   ]
  },
  {
   "cell_type": "code",
   "execution_count": 31,
   "metadata": {},
   "outputs": [
    {
     "name": "stdout",
     "output_type": "stream",
     "text": [
      "[[1 2 5 6]\n",
      " [3 4 7 8]]\n",
      "[[1 2]\n",
      " [3 4]\n",
      " [5 6]\n",
      " [7 8]]\n",
      "新内容\n",
      "[[100   2]\n",
      " [  3   4]]\n",
      "[[1 2]\n",
      " [3 4]\n",
      " [5 6]\n",
      " [7 8]]\n"
     ]
    }
   ],
   "source": [
    "import numpy as np\n",
    "a=np.array([[1,2],[3,4]])\n",
    "b=np.array([[5,6],[7,8]])\n",
    "c=np.hstack((a,b))   #横着拼成一个2行4列矩阵\n",
    "print(c)\n",
    "d=np.vstack((a,b))    #竖着拼成一个4行2列矩阵\n",
    "print(d)"
   ]
  },
  {
   "cell_type": "markdown",
   "metadata": {},
   "source": [
    "#### 2.切分(浅拷贝view)"
   ]
  },
  {
   "cell_type": "code",
   "execution_count": 34,
   "metadata": {},
   "outputs": [
    {
     "name": "stdout",
     "output_type": "stream",
     "text": [
      "[[ 0  1  2]\n",
      " [ 9 10 11]\n",
      " [18 19 20]\n",
      " [27 28 29]]\n",
      "[[ 3  4  5  6]\n",
      " [12 13 14 15]\n",
      " [21 22 23 24]\n",
      " [30 31 32 33]]\n",
      "[[ 7  8]\n",
      " [16 17]\n",
      " [25 26]\n",
      " [34 35]]\n",
      "xin neirong\n",
      "[[300   1   2   3   4   5   6   7   8]\n",
      " [  9  10  11  12  13  14  15  16  17]\n",
      " [ 18  19  20  21  22  23  24  25  26]\n",
      " [ 27  28  29  30  31  32  33  34  35]]\n",
      "[[300   1   2]\n",
      " [  9  10  11]\n",
      " [ 18  19  20]\n",
      " [ 27  28  29]]\n",
      "[[ 3  4  5  6]\n",
      " [12 13 14 15]\n",
      " [21 22 23 24]\n",
      " [30 31 32 33]]\n",
      "[[ 7  8]\n",
      " [16 17]\n",
      " [25 26]\n",
      " [34 35]]\n"
     ]
    }
   ],
   "source": [
    "my_array=np.arange(36).reshape((4,9))\n",
    "#np.hsplit(my_array,3)返回的是一个列表,每个元素是一个数组array\n",
    "my_h1=np.hsplit(my_array,3)  #横着水平方向平均分成3份  \n",
    "my_n=my_h1[0] # my_h1[0]是第0个数组，my_h1[1]是第1个数组。也可按下边方法提取数组。\n",
    "my_e,my_f,my_g=np.hsplit(my_array,3)       #将my_array按照横着方向平均切分成3份。\n",
    "my_h,my_m=np.vsplit(my_array,2)         #将my_array按照竖着方向切分成2份\n",
    "my_e,my_f,my_g=np.hsplit(my_array,[3,7])  #在指定位置切分\n",
    "print(my_e)\n",
    "print(my_f)\n",
    "print(my_g)"
   ]
  },
  {
   "cell_type": "markdown",
   "metadata": {},
   "source": [
    "### 3.数据删除函数delete()（深拷贝）\n",
    "* ####  (由于生成新的数据，因此是深拷贝)"
   ]
  },
  {
   "cell_type": "markdown",
   "metadata": {},
   "source": [
    "* #### 二维数组删除函数（删除整行整列）"
   ]
  },
  {
   "cell_type": "code",
   "execution_count": 39,
   "metadata": {},
   "outputs": [
    {
     "name": "stdout",
     "output_type": "stream",
     "text": [
      "[[ 0  1  2  3  4  5]\n",
      " [ 6  7  8  9 10 11]\n",
      " [12 13 14 15 16 17]\n",
      " [18 19 20 21 22 23]]\n",
      "\n",
      "[[ 0  1  2  3  4  5]\n",
      " [12 13 14 15 16 17]\n",
      " [18 19 20 21 22 23]]\n",
      "\n",
      "[[ 0  1  3  4  5]\n",
      " [ 6  7  9 10 11]\n",
      " [12 13 15 16 17]\n",
      " [18 19 21 22 23]]\n",
      "xin neirong\n",
      "[[ 0  1  2  3  4  5]\n",
      " [ 6  7  8  9 10 11]\n",
      " [12 13 14 15 16 17]\n",
      " [18 19 20 21 22 23]]\n",
      "\n",
      "[[100   1   2   3   4   5]\n",
      " [ 12  13  14  15  16  17]\n",
      " [ 18  19  20  21  22  23]]\n",
      "\n",
      "[[ 0  1  3  4  5]\n",
      " [ 6  7  9 10 11]\n",
      " [12 13 15 16 17]\n",
      " [18 19 21 22 23]]\n"
     ]
    }
   ],
   "source": [
    "#不能删除某一个元素，因为删除掉这个元素数组就不是数组了，只能整行整列删除。\n",
    "import numpy as np\n",
    "my_array=np.arange(24).reshape((4,6))\n",
    "my_array1=np.delete(my_array,1,axis=0)  #删除第一行\n",
    "my_array2=np.delete(my_array,2,axis=1)  #删除第2列\n",
    "print(my_array)\n",
    "print()\n",
    "print(my_array1)\n",
    "print()\n",
    "print(my_array2)"
   ]
  }
 ],
 "metadata": {
  "kernelspec": {
   "display_name": "Python 3",
   "language": "python",
   "name": "python3"
  },
  "language_info": {
   "codemirror_mode": {
    "name": "ipython",
    "version": 3
   },
   "file_extension": ".py",
   "mimetype": "text/x-python",
   "name": "python",
   "nbconvert_exporter": "python",
   "pygments_lexer": "ipython3",
   "version": "3.6.4"
  }
 },
 "nbformat": 4,
 "nbformat_minor": 2
}
