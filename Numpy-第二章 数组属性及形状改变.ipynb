{
 "cells": [
  {
   "cell_type": "markdown",
   "metadata": {},
   "source": [
    "## 第二章 数组属性及形状改变"
   ]
  },
  {
   "cell_type": "markdown",
   "metadata": {},
   "source": [
    "### 1.数组的重要属性(size、ndim、dtype、shape)"
   ]
  },
  {
   "cell_type": "code",
   "execution_count": null,
   "metadata": {},
   "outputs": [],
   "source": [
    "import numpy as np\n",
    "my_array=np.array([[1,2,3,4],[5,4,3,6],[3,5,2,7]])\n",
    "print(my_array.size)   #数组中元素的总个数\n",
    "print(my_array.ndim)   #数组维度\n",
    "print(my_array.dtype)  #数组中元素的类型\n",
    "print(my_array.shape)  #数组的形状\n",
    "print(my_array.shape[0])   #提取数组行数的方法\n",
    "print(my_array.shape[1])   #提取数组列数的方法\n",
    "#以下特别说明python中的len()函数\n",
    "print(len(my_array1))   #len()函数是python内置函数，返回数组中维度为0方向上的个数"
   ]
  },
  {
   "cell_type": "markdown",
   "metadata": {},
   "source": [
    "### 2.改变数组形状函数reshape()(浅拷贝)"
   ]
  },
  {
   "cell_type": "code",
   "execution_count": 2,
   "metadata": {},
   "outputs": [],
   "source": [
    "#注1：reshape()是属于标准的视图浅拷贝\n",
    "#注2：下边的my_array,my_array1,my_array2,my_array3属于视图浅拷贝，数据一样\n",
    "#     只是观察的角度不一样，其中一个数组的元素发生变化，其他数组的元素都随之变化。\n",
    "#     因为这几个数组指向相同的id值，只是观看形状不一样。\n",
    "import numpy as np\n",
    "my_array2=my_array1.reshape((4,3))   #my_array1数组不变，但返回一个新的数组\n",
    "my_array1.shape=(6,2)   #my_array1数组变成了新的数组\n",
    "my_array=np.arange(6)\n",
    "#生成6行1列的二维数组,-1代表有几行就是几行，一般用在不知元素个数的时候。\n",
    "my_array1=my_array.reshape((-1,1)) \n",
    "my_array2=my_array.reshape((1,-1))  #生成1行6列的二维数组\n",
    "my_array3=my_array.reshape((2,3)) #生成2行3列的二维数组，my_array没有变，浅拷贝。"
   ]
  },
  {
   "cell_type": "markdown",
   "metadata": {},
   "source": [
    "### 3.改变数组形状函数ravel()、属性flat（浅拷贝）"
   ]
  },
  {
   "cell_type": "code",
   "execution_count": 3,
   "metadata": {},
   "outputs": [],
   "source": [
    "#ravel()属于标准的视图浅拷贝\n",
    "import numpy as np\n",
    "my_array=np.arange(12).reshape((3,4))   #二维数组\n",
    "my_ravel=my_array.ravel() #返回一维数组\n",
    "my_flat=my_array.flat   #flat是属性，返回一个迭代器，用于遍历。"
   ]
  },
  {
   "cell_type": "markdown",
   "metadata": {},
   "source": [
    "### 4.数组转置函数transpose()（浅拷贝）"
   ]
  },
  {
   "cell_type": "code",
   "execution_count": 1,
   "metadata": {},
   "outputs": [
    {
     "name": "stdout",
     "output_type": "stream",
     "text": [
      "[[ 0  1  2  3  4]\n",
      " [ 5  6  7  8  9]\n",
      " [10 11 12 13 14]]\n",
      "\n",
      "[[ 0  5 10]\n",
      " [ 1  6 11]\n",
      " [ 2  7 12]\n",
      " [ 3  8 13]\n",
      " [ 4  9 14]]\n"
     ]
    }
   ],
   "source": [
    "#此处也是视图浅拷贝，改变一个数组中元素的值，其他数组的的元素做相应改变。\n",
    "import numpy as np\n",
    "my_array=np.arange(15).reshape((3,5))\n",
    "my_tr_array1=np.transpose(my_array)   #转置函数，也可以用下边数组的方法完成转置。\n",
    "my_tr_array2=my_array.T               #也可以用数组的方法实行转置\n",
    "print(my_array)\n",
    "print()\n",
    "print(my_tr_array1)"
   ]
  }
 ],
 "metadata": {
  "kernelspec": {
   "display_name": "Python 3",
   "language": "python",
   "name": "python3"
  },
  "language_info": {
   "codemirror_mode": {
    "name": "ipython",
    "version": 3
   },
   "file_extension": ".py",
   "mimetype": "text/x-python",
   "name": "python",
   "nbconvert_exporter": "python",
   "pygments_lexer": "ipython3",
   "version": "3.6.4"
  }
 },
 "nbformat": 4,
 "nbformat_minor": 2
}
