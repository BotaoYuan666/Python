{
 "cells": [
  {
   "cell_type": "markdown",
   "metadata": {},
   "source": [
    "## Numpy官网学习：http://www.numpy.org/\n",
    "* (jupyter notebook用法：https://blog.csdn.net/liuyanlin610/article/details/77059848)\n",
    "* (markdown语法：https://www.cnblogs.com/liugang-vip/p/6337580.html)\n",
    "* Ctrl + Enter: 执行单元格代码\n",
    "* Shift + Enter: 执行单元格代码并且移动到下一个单元格\n",
    "* Alt + Enter: 执行单元格代码，新建并移动到下一个单元格"
   ]
  },
  {
   "cell_type": "markdown",
   "metadata": {},
   "source": [
    "## 第一章 数组array的构造"
   ]
  },
  {
   "cell_type": "markdown",
   "metadata": {},
   "source": [
    "### 0.Numpy概述"
   ]
  },
  {
   "cell_type": "markdown",
   "metadata": {},
   "source": [
    "\n",
    "*    标准安装的Python中用列表(list)保存一组值，可以用来当作数组使用，不过由于列表的元素可以是任何对象，因此列表中所保存的是对象的指针。这样为了保存一个简单的[1,2,3]，需要有3个指针和三个整数对象。对于数值运算来说这种结构显然比较浪费内存和CPU计算时间。\n",
    "*    NumPy的诞生弥补了这些不足，NumPy提供了两种基本的对象：ndarray（N-dimensional array object）和 ufunc（universal function object）。ndarray(下文统一称之为数组)是存储单一数据类型的多维数组，而ufunc则是能够对数组进行处理的函数,即能够进行向量化运算的内置函数。\n",
    "*    创建ndarray数组：ndarray是N维数组对象（矩阵），所有元素必须是相同类型。\n",
    "*    （1）若由列表生成数组，且列表中元素有数字、字符串，则首先会将数字改成字符串，再生成数组，此时数组中的元素均为字符串的统一类型。\n",
    "*    （2）若a是一个Dataframe,则a.values是一个数组，而且数组中的元素类型可以不一致，这些元素的类型为object,这属于复杂的数组结构类型。"
   ]
  },
  {
   "cell_type": "code",
   "execution_count": 1,
   "metadata": {},
   "outputs": [
    {
     "name": "stdout",
     "output_type": "stream",
     "text": [
      "1.14.0\n"
     ]
    }
   ],
   "source": [
    "import numpy as np\n",
    "print(np.__version__)\n",
    "#help(np.append)  #了解这个函数的详细内容,和下边这行功能一样\n",
    "np.append?\n",
    "#shift+tab键的使用：当不知道某一个函数具体使用尤其是函数中的参数是什么时，\n",
    "#将鼠标放在该函数处，#按shift+tab键一次、两次、三次会逐步现实该函数详细介绍。\n",
    "#此功能不仅对函数适用，对任何变量也适用。"
   ]
  },
  {
   "cell_type": "markdown",
   "metadata": {},
   "source": [
    "### 1.tuple和list转成numpy的array数据类型"
   ]
  },
  {
   "cell_type": "code",
   "execution_count": 5,
   "metadata": {},
   "outputs": [
    {
     "name": "stdout",
     "output_type": "stream",
     "text": [
      "[12, 23, 24, -19, 12, 23, 24, -19, 12, 23, 24, -19]\n",
      "(11, 2, 3, 6, 7, 11, 2, 3, 6, 7, 11, 2, 3, 6, 7)\n",
      "[33  6  9 18 21]\n"
     ]
    }
   ],
   "source": [
    "import numpy as np\n",
    "\n",
    "#由列表list生成数组array\n",
    "my_list=[12,23,24,-19]\n",
    "my_np_array=np.array(my_list)   \n",
    "#由元组tuple生成数组array\n",
    "my_tuple=(11,2,3,6,7)    \n",
    "myt_array=np.array(my_tuple)\n",
    "#列表、元组的倍数与数组倍数的不同\n",
    "print(my_list*3)\n",
    "print(my_tuple*3)\n",
    "print(np.array(my_tuple)*3)"
   ]
  },
  {
   "cell_type": "markdown",
   "metadata": {},
   "source": [
    "### 2.arange()、linspace()生成数组"
   ]
  },
  {
   "cell_type": "code",
   "execution_count": 4,
   "metadata": {},
   "outputs": [
    {
     "name": "stdout",
     "output_type": "stream",
     "text": [
      "[2 4 6 8]\n",
      "[ 2.          2.88888889  3.77777778  4.66666667  5.55555556  6.44444444\n",
      "  7.33333333  8.22222222  9.11111111 10.        ]\n",
      "0\n",
      "1\n",
      "2\n"
     ]
    }
   ],
   "source": [
    "import numpy as np\n",
    "#1.函数arange()\n",
    "np.arange(9)   #此函数生成数组array，不包括尾数\n",
    "np.arange(2,9)\n",
    "print(np.arange(2,9,2))\n",
    "\n",
    "#2.函数linspace()\n",
    "print(np.linspace(2,10,10))   #在区间[2,10]均分后生成包括端点的10个点。\n",
    "\n",
    "#3.关于python中的函数range()的说明(不生成数组)。\n",
    "range(10)   #是python内置函数，生成一个迭代器，常用于循环遍历\n",
    "list(range(10))   #将迭代器转换为列表\n",
    "for i in range(3):  #常用在循环中，此时python2和python3一样使用\n",
    "    print(i)"
   ]
  },
  {
   "cell_type": "markdown",
   "metadata": {},
   "source": [
    "### 3.元素为1的矩阵ones和元素全为0的矩阵zeros的自动生成"
   ]
  },
  {
   "cell_type": "code",
   "execution_count": 8,
   "metadata": {},
   "outputs": [
    {
     "name": "stdout",
     "output_type": "stream",
     "text": [
      "[[1 1 1]\n",
      " [1 1 1]\n",
      " [1 1 1]\n",
      " [1 1 1]\n",
      " [1 1 1]]\n"
     ]
    }
   ],
   "source": [
    "np.zeros(6)   #一维零数组\n",
    "np.zeros((2,3))  #二维零数组\n",
    "np.zeros((2,3,4))   #三维零数组\n",
    "\n",
    "np.ones(5)    #一维数组，元素都是1\n",
    "np.ones((5,3))   #二维数组，元素都是1\n",
    "\n",
    "np.ones(5,dtype='int32')   #指定数组元素的数据类型，默认为浮点型。\n",
    "my_one=np.ones((5,3),dtype='int64')\n",
    "print(my_one)"
   ]
  },
  {
   "cell_type": "markdown",
   "metadata": {},
   "source": [
    "### 4.随机数组的生成"
   ]
  },
  {
   "cell_type": "markdown",
   "metadata": {},
   "source": [
    "#### (1)生成一个随机数"
   ]
  },
  {
   "cell_type": "code",
   "execution_count": null,
   "metadata": {},
   "outputs": [],
   "source": [
    "import numpy as np\n",
    "np.random.seed(10)  # random.seed()，省略参数意味着取当前系统时间\n",
    "np.random.random()  ## 产生一个[0,1)之间的浮点型随机数\n",
    "#print(np.random.random())  #同一个种子值，产生的随机数相同"
   ]
  },
  {
   "cell_type": "markdown",
   "metadata": {},
   "source": [
    "#### (2)生成服从均匀分布的随机数组"
   ]
  },
  {
   "cell_type": "code",
   "execution_count": 8,
   "metadata": {},
   "outputs": [
    {
     "data": {
      "text/plain": [
       "array([[2, 5, 2, 5],\n",
       "       [3, 3, 2, 1],\n",
       "       [2, 4, 3, 1]])"
      ]
     },
     "execution_count": 8,
     "metadata": {},
     "output_type": "execute_result"
    }
   ],
   "source": [
    "#1.生成一个一维随机数组（每个数来自于[1,6)上的均匀分布）\n",
    "import numpy as np\n",
    "5*np.random.random(10) + 1   #返回一个数组array\n",
    "np.random.uniform(1, 6, 10)   #同上一行一样的功能\n",
    "np.random.randint(1, 6, 10)  # 产生每个数来自于均匀分布的整型一维随机数组\n",
    "#2.生成一个二维随机数组（每个数来自于[1,6)上的均匀分布）\n",
    "5*np.random.random(size=(3,4))+1  #\"size=\"可以不写\n",
    "np.random.uniform(1,6,size=(3,4)) \n",
    "np.random.randint(1,6,size=(3,4)) "
   ]
  },
  {
   "cell_type": "markdown",
   "metadata": {},
   "source": [
    "#### (3)生成服正态分布的随机数组"
   ]
  },
  {
   "cell_type": "code",
   "execution_count": 11,
   "metadata": {},
   "outputs": [
    {
     "name": "stdout",
     "output_type": "stream",
     "text": [
      "[[86.10015173 85.17055065]\n",
      " [80.92583901 81.47408163]\n",
      " [84.24329411 84.06297727]\n",
      " [85.1156306  88.59209579]\n",
      " [82.14359052 81.70238365]]\n"
     ]
    }
   ],
   "source": [
    "#1.生成标准正态分布随机数组\n",
    "import numpy as np\n",
    "np.random.normal(size=(5, 2))  # 产生5x2的每个元素来自标准正态分布的样本矩阵,\n",
    "#2.生成均值为85，标准差为4的100个正态分布随机数\n",
    "sampleNo = 100;   #样本个数\n",
    "mu = 85     #均值\n",
    "sigma = 4   #标准差\n",
    "s1 = np.random.normal(mu, sigma, size=sampleNo)  #返回是一维数组\n",
    "s2 = np.random.normal(mu, sigma, size=(5,2))     #返回是二维数组\n",
    "print(s2)"
   ]
  },
  {
   "cell_type": "markdown",
   "metadata": {},
   "source": [
    "#### (4)生成服从二项分布的随机数组"
   ]
  },
  {
   "cell_type": "code",
   "execution_count": 15,
   "metadata": {},
   "outputs": [
    {
     "data": {
      "text/plain": [
       "array([[5, 3, 3, 2, 4],\n",
       "       [3, 3, 3, 1, 4],\n",
       "       [1, 2, 2, 4, 4]])"
      ]
     },
     "execution_count": 15,
     "metadata": {},
     "output_type": "execute_result"
    }
   ],
   "source": [
    "import numpy as np\n",
    "#生成来自于n=5，p=0.5的二项分布的样本构成的一维数组。\n",
    "np.random.binomial(n=5,p=0.5,size=5)\n",
    "#生成来自于n=5，p=0.5的二项分布的样本构成的二维数组。\n",
    "np.random.binomial(n=5,p=0.5,size=(3,5))"
   ]
  },
  {
   "cell_type": "markdown",
   "metadata": {},
   "source": [
    "### 5.读入文件构成的数组"
   ]
  },
  {
   "cell_type": "code",
   "execution_count": 18,
   "metadata": {},
   "outputs": [
    {
     "name": "stdout",
     "output_type": "stream",
     "text": [
      "[[ 0.   0.5  1.   1.5  2.   2.5]\n",
      " [ 3.   3.5  4.   4.5  5.   5.5]\n",
      " [ 6.   6.5  7.   7.5  8.   8.5]\n",
      " [ 9.   9.5 10.  10.5 11.  11.5]]\n"
     ]
    }
   ],
   "source": [
    "#关于文件读写的详细内容在后边章节中\n",
    "import numpy as np\n",
    "my_array=np.loadtxt('b.txt',delimiter=',') #无delimiter时默认以空格作为分隔符读入\n",
    "print(my_array)"
   ]
  },
  {
   "cell_type": "code",
   "execution_count": null,
   "metadata": {},
   "outputs": [],
   "source": []
  }
 ],
 "metadata": {
  "kernelspec": {
   "display_name": "Python 3",
   "language": "python",
   "name": "python3"
  },
  "language_info": {
   "codemirror_mode": {
    "name": "ipython",
    "version": 3
   },
   "file_extension": ".py",
   "mimetype": "text/x-python",
   "name": "python",
   "nbconvert_exporter": "python",
   "pygments_lexer": "ipython3",
   "version": "3.6.4"
  }
 },
 "nbformat": 4,
 "nbformat_minor": 2
}
