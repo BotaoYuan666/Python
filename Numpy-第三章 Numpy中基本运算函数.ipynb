{
 "cells": [
  {
   "cell_type": "markdown",
   "metadata": {},
   "source": [
    "## 第三章 Numpy中基本运算函数"
   ]
  },
  {
   "cell_type": "markdown",
   "metadata": {},
   "source": [
    "* pathon中标准数学库math中也有下边的类似函数，但速度慢，且不能实现向量化运算也就是说函数不能作用在array中每一个元素上以后用到函数时都用numpy中的函数（c语言编写且优化了），numpy中的函数都可以作用在array中的每一个元素，即函数具有向量化运算能力。"
   ]
  },
  {
   "cell_type": "markdown",
   "metadata": {},
   "source": [
    "### 1.常用数学函数(作用在单个数值上)"
   ]
  },
  {
   "cell_type": "code",
   "execution_count": 20,
   "metadata": {},
   "outputs": [],
   "source": [
    "#1 函数作用在单个数值上\n",
    "import numpy as np\n",
    "pi= np.pi  #取π值\n",
    "ee=np.e     #取自然对数e\n",
    "q=np.floor(-3.2)   #向下取整，得到-4.0还是浮点数\n",
    "a = np.abs(-1)    # 绝对值，1\n",
    "b = np.sin(np.pi/2)   # sin函数，1.0\n",
    "c = np.arctanh(0.462118)   # tanh逆函数，0.50000107157840523\n",
    "d = np.exp(3)    # e为底的指数函数，20.085536923187668\n",
    "f = np.power(2, 3)   # 2的3次方，8"
   ]
  },
  {
   "cell_type": "markdown",
   "metadata": {},
   "source": [
    "### 2.常用函数(作用在数组上)（本质上是numpy作为对象的方法）"
   ]
  },
  {
   "cell_type": "markdown",
   "metadata": {},
   "source": [
    "* #### (以下这些函数都不能作为具体对象比如my_array的方法，如my_array.sin()不存在)"
   ]
  },
  {
   "cell_type": "code",
   "execution_count": 4,
   "metadata": {},
   "outputs": [
    {
     "name": "stdout",
     "output_type": "stream",
     "text": [
      "[[ 0  1  2  3]\n",
      " [ 4  5  6  7]\n",
      " [ 8  9 10 11]]\n",
      "[[ 0  1  2  3]\n",
      " [ 4  5  6  7]\n",
      " [ 8  9 10 11]]\n",
      "[[ 0.          0.84147098  0.90929743  0.14112001]\n",
      " [-0.7568025  -0.95892427 -0.2794155   0.6569866 ]\n",
      " [ 0.98935825  0.41211849 -0.54402111 -0.99999021]]\n",
      "[[   1    2    4    8]\n",
      " [  16   32   64  128]\n",
      " [ 256  512 1024 2048]]\n",
      "[[  0   1   4   9]\n",
      " [ 16  25  36  49]\n",
      " [ 64  81 100 121]]\n",
      "[[4.96052649 3.82844934 8.18746534]\n",
      " [8.58990196 4.45946257 9.38807241]]\n",
      "[[4. 3. 8.]\n",
      " [8. 4. 9.]]\n"
     ]
    }
   ],
   "source": [
    "#numpy中的函数都是向量化运算，作用在数组中的每一个元素上。\n",
    "#np.sin()可以理解为numpy中的函数，其实本质上是numpy作为对象的一种方法\n",
    "import numpy as np\n",
    "my_array1=np.arange(12).reshape((3,4))\n",
    "my_array1*2    #每个元素乘以2\n",
    "my_array1/2    #每个元素除以2\n",
    "my_array1+2    #每个元素加上2\n",
    "print(my_array1)\n",
    "print(np.abs(my_array1))   #每个元素都取绝对值，返回一个数组\n",
    "print(np.sin(my_array1))   #每个元素都取sin值，返回一个数组\n",
    "print(np.power(2,my_array1))\n",
    "print(np.power(my_array1,2))\n",
    "my_array2=np.random.random((2,3))*8+3\n",
    "print(my_array2)\n",
    "print(np.floor(my_array2))"
   ]
  },
  {
   "cell_type": "markdown",
   "metadata": {},
   "source": [
    "### 3.基本统计函数(求和、最大值、最小值、均值、标准差)"
   ]
  },
  {
   "cell_type": "markdown",
   "metadata": {},
   "source": [
    "* #### (以下这些统计函数一般也对应存在具体对象的方法，如：my_array.sum())"
   ]
  },
  {
   "cell_type": "code",
   "execution_count": 5,
   "metadata": {},
   "outputs": [],
   "source": [
    "#以下这些统计函数一般也对应存在具体对象的方法，如：my_array.sum()\n",
    "import numpy as np\n",
    "my_array=np.arange(12).reshape((3,4))\n",
    "my_sum1 = np.sum(my_array)   # 求二维数组的元素和\n",
    "my_sum2=np.sum(my_array,axis=0)#axis=0，每列求和；axis=1每行求和，得一维数组。\n",
    "my_sum3=my_array.sum(axis=0)  #用数组的方法操作，得到与上一行一样的运行结果。\n",
    "my_max=np.sum(my_array,axis=1)  #每一列求最大值，返回一个一维数组\n",
    "my_min=np.min(my_array,axis=0)  #每一列求最小值，返回一个一维数组\n",
    "my_mean= np.mean(my_array)  # 求二维数组的元素平均值\n",
    "my_std= np.std(my_array)    # 求二维数组的元素标准差"
   ]
  },
  {
   "cell_type": "markdown",
   "metadata": {},
   "source": [
    "### 4.两个数组之间的乘法运算"
   ]
  },
  {
   "cell_type": "code",
   "execution_count": 22,
   "metadata": {},
   "outputs": [
    {
     "name": "stdout",
     "output_type": "stream",
     "text": [
      "[[ 2  8]\n",
      " [ 9 20]]\n",
      "\n",
      "[[ 8 14]\n",
      " [18 32]]\n",
      "[[ 8 14]\n",
      " [18 32]]\n"
     ]
    }
   ],
   "source": [
    "u=np.array([[1,2],[3,4]])\n",
    "v=np.array([[2,4],[3,5]])\n",
    "w=u*v   #对应元素相乘，相当于内积，要求两个数组维度相同\n",
    "print(w)\n",
    "print()\n",
    "y=np.dot(u,v)  #矩阵乘法\n",
    "z=u.dot(v)     #利用了数组的方法实现了和上一行一样的功能\n",
    "print(y)\n",
    "print(z)"
   ]
  }
 ],
 "metadata": {
  "kernelspec": {
   "display_name": "Python 3",
   "language": "python",
   "name": "python3"
  },
  "language_info": {
   "codemirror_mode": {
    "name": "ipython",
    "version": 3
   },
   "file_extension": ".py",
   "mimetype": "text/x-python",
   "name": "python",
   "nbconvert_exporter": "python",
   "pygments_lexer": "ipython3",
   "version": "3.6.4"
  }
 },
 "nbformat": 4,
 "nbformat_minor": 2
}
